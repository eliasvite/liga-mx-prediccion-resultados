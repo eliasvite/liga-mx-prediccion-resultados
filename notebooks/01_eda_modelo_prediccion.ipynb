{
 "cells": [
  {
   "cell_type": "markdown",
   "id": "2ecfbf02",
   "metadata": {},
   "source": [
    "# Predicción de Resultados - Liga MX\n",
    "\n",
    "Este notebook analiza datos históricos de la Liga MX para predecir el resultado del partido (local gana, empata o pierde), usando modelos de clasificación."
   ]
  },
  {
   "cell_type": "code",
   "execution_count": null,
   "id": "13c57142",
   "metadata": {},
   "outputs": [],
   "source": [
    "import pandas as pd\n",
    "import numpy as np\n",
    "import matplotlib.pyplot as plt\n",
    "import seaborn as sns\n",
    "\n",
    "from sklearn.model_selection import train_test_split\n",
    "from sklearn.linear_model import LogisticRegression\n",
    "from sklearn.metrics import confusion_matrix, classification_report\n",
    "\n",
    "%matplotlib inline\n"
   ]
  },
  {
   "cell_type": "code",
   "execution_count": null,
   "id": "1ee737e5",
   "metadata": {},
   "outputs": [],
   "source": [
    "df = pd.read_csv('../../datos/Liga_MX.csv')\n",
    "df.head()\n"
   ]
  },
  {
   "cell_type": "code",
   "execution_count": null,
   "id": "fad2c824",
   "metadata": {},
   "outputs": [],
   "source": [
    "df.info()\n",
    "df.isnull().sum()\n"
   ]
  },
  {
   "cell_type": "code",
   "execution_count": null,
   "id": "7f1a1a31",
   "metadata": {},
   "outputs": [],
   "source": [
    "df.rename(columns={\n",
    "    'Home': 'Equipo_Local',\n",
    "    'Away': 'Equipo_Visitante',\n",
    "    'HG': 'Goles_Local',\n",
    "    'AG': 'Goles_Visitante',\n",
    "    'Res': 'Resultado'\n",
    "}, inplace=True)\n",
    "\n",
    "df = df[['Date', 'Season', 'Equipo_Local', 'Equipo_Visitante', 'Goles_Local', 'Goles_Visitante', 'Resultado']]\n",
    "df.head()\n"
   ]
  },
  {
   "cell_type": "code",
   "execution_count": null,
   "id": "571e7b07",
   "metadata": {},
   "outputs": [],
   "source": [
    "sns.countplot(x='Resultado', data=df)\n",
    "plt.title('Distribución de Resultados')\n",
    "plt.show()\n"
   ]
  },
  {
   "cell_type": "code",
   "execution_count": null,
   "id": "d419a785",
   "metadata": {},
   "outputs": [],
   "source": [
    "df['Diferencia_Goles'] = df['Goles_Local'] - df['Goles_Visitante']\n",
    "X = df[['Diferencia_Goles']]\n",
    "y = df['Resultado']\n"
   ]
  },
  {
   "cell_type": "code",
   "execution_count": null,
   "id": "50251c4c",
   "metadata": {},
   "outputs": [],
   "source": [
    "from sklearn.preprocessing import LabelEncoder\n",
    "\n",
    "le = LabelEncoder()\n",
    "y_encoded = le.fit_transform(y)  # H = 0, D = 1, A = 2\n",
    "le.classes_\n"
   ]
  },
  {
   "cell_type": "code",
   "execution_count": null,
   "id": "a5cb2009",
   "metadata": {},
   "outputs": [],
   "source": [
    "X_train, X_test, y_train, y_test = train_test_split(X, y_encoded, test_size=0.2, random_state=42)\n"
   ]
  },
  {
   "cell_type": "code",
   "execution_count": null,
   "id": "a197131c",
   "metadata": {},
   "outputs": [],
   "source": [
    "modelo = LogisticRegression(multi_class='multinomial', max_iter=1000)\n",
    "modelo.fit(X_train, y_train)\n"
   ]
  },
  {
   "cell_type": "code",
   "execution_count": null,
   "id": "d9d322b6",
   "metadata": {},
   "outputs": [],
   "source": [
    "y_pred = modelo.predict(X_test)\n",
    "print(classification_report(y_test, y_pred, target_names=le.classes_))\n",
    "\n",
    "conf_matrix = confusion_matrix(y_test, y_pred)\n",
    "sns.heatmap(conf_matrix, annot=True, fmt='d', xticklabels=le.classes_, yticklabels=le.classes_)\n",
    "plt.title('Matriz de Confusión')\n",
    "plt.xlabel('Predicción')\n",
    "plt.ylabel('Real')\n",
    "plt.show()\n"
   ]
  }
 ],
 "metadata": {},
 "nbformat": 4,
 "nbformat_minor": 5
}
